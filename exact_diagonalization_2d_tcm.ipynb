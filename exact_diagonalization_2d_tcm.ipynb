{
 "cells": [
  {
   "cell_type": "markdown",
   "metadata": {},
   "source": [
    "# Exact diagonalization in 2D : Toric Code (TC) model\n",
    "\n",
    "This is a paradigmatic model involving spin-1/2 system, which is exactly solvable and it has a highly entangled ground state (GS). In a toroidal boundary condition, this has a four fold GS degeneracy, which is independent of the geometry. Moreover, the excitations are even intersting, it has two types of bosonic excitation, while the mutual statistics is semionic, i.e. one of the bosonic excitation sees other as source of $\\pi$-flux. For a refference see chapter 3 and 4 of <a href='https://arxiv.org/pdf/0904.2771.pdf'>this lecture note</a>.\n",
    "\n",
    "The Hamiltonian is given by:\n",
    "\n",
    "$$ \\mathcal{H}= -J_{e}\\sum_{s}A_{s}-J_{m}\\sum_{p}B_{p} $$\n",
    "\n",
    "For our purpose we will assume $J_e=J_m=J_{TC}$. In the rest of the notebook we will do the following things:\n",
    "\n",
    "* <a href='#hamiltonian'>Construct a two dimensional Hamiltonian and solve it</a>\n",
    "* <a href='#wilson_loop'>By applying global operator we will split the four fold degeneracy.</a>\n",
    "* <a href='#qpt_to_pm'>Study a phase transiton to a paramagnet using GS susceptibility and order parameter.</a>"
   ]
  },
  {
   "cell_type": "code",
   "execution_count": 1,
   "metadata": {},
   "outputs": [],
   "source": [
    "# basic python operations\n",
    "import numpy as np\n",
    "\n",
    "# scientific coputing\n",
    "from functools import reduce\n",
    "import scipy.sparse as sps\n",
    "import scipy.sparse.linalg as spslin\n",
    "from scipy.optimize import curve_fit\n",
    "\n",
    "# visualization\n",
    "import matplotlib.pyplot as plt"
   ]
  },
  {
   "cell_type": "code",
   "execution_count": 2,
   "metadata": {},
   "outputs": [],
   "source": [
    "# Loading the Pauli matrices\n",
    "\n",
    "Id = sps.eye(2)\n",
    "Sx = sps.csr_matrix(np.array([[0,1.],[1.,0]]))\n",
    "Sy = sps.csr_matrix(np.array([[0,-1.j],[1.j,0]]))\n",
    "Sz = sps.csr_matrix(np.array([[1.,0.],[0,-1.]]))"
   ]
  },
  {
   "cell_type": "markdown",
   "metadata": {},
   "source": [
    "### Loading the adjacency list"
   ]
  },
  {
   "cell_type": "code",
   "execution_count": 3,
   "metadata": {},
   "outputs": [],
   "source": [
    "Lx,Ly=2,2\n",
    "N_2d=2*Lx*Ly\n",
    "s=np.arange(N_2d)\n",
    "T1=np.array([3,2,4,5,7,6,0,1])\n",
    "T2=np.array([2,3,5,4,6,7,1,0])\n",
    "I1=np.array([6,7,1,0,2,3,5,4])\n",
    "I2=np.array([7,6,0,1,3,2,4,5])\n",
    "Tx=np.array([1,0,3,2,5,4,7,6])"
   ]
  },
  {
   "cell_type": "code",
   "execution_count": 4,
   "metadata": {},
   "outputs": [],
   "source": [
    "J_tc=1.\n",
    "As=[[-J_tc,i,Tx[i],T1[i],I2[i]] for i in [0,1,4,5]]\n",
    "Bp=[[-J_tc,i,Tx[i],T1[i],I2[i]] for i in [2,3,6,7]]\n",
    "\n",
    "static=[[\"xxxx\",As],[\"zzzz\",Bp]]"
   ]
  },
  {
   "cell_type": "code",
   "execution_count": 5,
   "metadata": {},
   "outputs": [],
   "source": [
    "static;"
   ]
  },
  {
   "cell_type": "markdown",
   "metadata": {},
   "source": [
    "# Defining the Hamiltonian <a id='hamiltonian'></a>"
   ]
  },
  {
   "cell_type": "code",
   "execution_count": 6,
   "metadata": {},
   "outputs": [],
   "source": [
    "def ham_general(L,static):\n",
    "    ham_gen=np.zeros(shape=(2**L,2**L),dtype=np.float)\n",
    "    for item in static:\n",
    "        string=item[0]\n",
    "        for inside in item[1:len(item)]:\n",
    "            for j in range(len(inside)):\n",
    "                op_list=[Id]*L\n",
    "                for k in range(len(string)):\n",
    "                    if string[k]=='x':\n",
    "                        op_list[inside[j][k+1]]=Sx\n",
    "                    elif string[k]=='y':\n",
    "                        op_list[inside[j][k+1]]=Sy\n",
    "                    elif string[k]=='z':\n",
    "                        op_list[inside[j][k+1]]=Sz\n",
    "                #print(reduce(sps.kron,op_list).toarray())\n",
    "                ham_gen += inside[j][0]*reduce(sps.kron,op_list).toarray()\n",
    "    #            \n",
    "    return ham_gen"
   ]
  },
  {
   "cell_type": "markdown",
   "metadata": {},
   "source": [
    "## Diagonalization of the Hamiltonian"
   ]
  },
  {
   "cell_type": "code",
   "execution_count": 7,
   "metadata": {},
   "outputs": [
    {
     "data": {
      "text/plain": [
       "array([-8., -8., -8., -8., -4., -4., -4., -4., -4., -4., -4., -4., -4.,\n",
       "       -4., -4., -4.])"
      ]
     },
     "execution_count": 7,
     "metadata": {},
     "output_type": "execute_result"
    }
   ],
   "source": [
    "(e2,u) = spslin.eigsh(ham_general(N_2d,static), k=16, which='SA',return_eigenvectors=True)\n",
    "\n",
    "e2"
   ]
  },
  {
   "cell_type": "markdown",
   "metadata": {},
   "source": [
    "Notice that the four fold degeneracy is there with an excitation gap $\\Delta\\sim 4$. Since electric or the magnetic excitation comes in pair the excitation gap is matching with the expectation.\n",
    "\n",
    "# TCM with a Wilson loop <a id='wilson_loop'></a>\n",
    "\n",
    "In the TC model, we can define a global operator of loop winding the full system in two different direction. These are called Wilson loop. In terms of the Wilson loop, the ground state is then given by the quantum numbers: $|m,n\\rangle$, while $(m,n)\\in(-1,1)$. Which gives the 4 fold degeneracy. We can seperate them out by applying the same global loop operator since these states are eigenstate of the loop operators. See the above mentioned lecture note for more details.\n",
    "\n",
    "Our new Hamiltonian involving the loop operators is:\n",
    "\n",
    "$$ \\mathcal{H}= -J_{e}\\sum_{s}A_{s}-J_{m}\\sum_{p}B_{p}-w_x\\prod_{i\\in \\rm{loop-x}}\\sigma^z_i-w_y\\prod_{i\\in \\rm{loop-y}}\\sigma^z_i $$\n",
    "\n",
    "These loops wind around the system along the two non-contractable loops in a toroidal geometry."
   ]
  },
  {
   "cell_type": "code",
   "execution_count": 8,
   "metadata": {},
   "outputs": [],
   "source": [
    "J_tc=1.\n",
    "As=[[-J_tc,i,Tx[i],T1[i],I2[i]] for i in [0,1,4,5]]\n",
    "Bp=[[-J_tc,i,Tx[i],T1[i],I2[i]] for i in [2,3,6,7]]\n",
    "\n",
    "gz=.001\n",
    "Wx=[[-gz,0,1]]\n",
    "Wy=[[-gz,2,6]]\n",
    "\n",
    "static=[[\"xxxx\",As],[\"zzzz\",Bp],[\"zz\",Wx],[\"zz\",Wy]]"
   ]
  },
  {
   "cell_type": "code",
   "execution_count": 9,
   "metadata": {},
   "outputs": [
    {
     "data": {
      "text/plain": [
       "array([-8.002, -8.   , -8.   , -7.998, -4.002, -4.002, -4.002, -4.002,\n",
       "       -4.002, -4.002, -4.002, -4.002, -4.002, -4.002, -4.002, -4.002])"
      ]
     },
     "execution_count": 9,
     "metadata": {},
     "output_type": "execute_result"
    }
   ],
   "source": [
    "(e2,u) = spslin.eigsh(ham_general(N_2d,static), k=16, which='SA',return_eigenvectors=True)\n",
    "\n",
    "e2"
   ]
  },
  {
   "cell_type": "markdown",
   "metadata": {},
   "source": [
    "Interestingly, notice that we have arbitraryly set the strength of the loop as $0.1%$ of the TC strength. Which splits the GS degeracy as four times the strength of the loop. Since there are two such loop, the degeneracy split is as expected!\n",
    "\n",
    "$$ \\Delta_{new}=-7.998-(-8.002)=.004 $$\n",
    "\n",
    "# Phase transition to a paramagnet <a id='qpt_to_pm'></a>\n",
    "\n",
    "We consider the Hamiltonian:\n",
    "\n",
    "$$ \\mathcal{H}= -J_{TC}\\left(\\sum_{s}A_{s}+\\sum_{p}B_{p}\\right)-h_z\\sum_{i}\\sigma^z_i $$\n",
    "\n",
    "This is the part of the Hamiltonian considered by these papers: <a href='https://journals.aps.org/prb/pdf/10.1103/PhysRevB.82.085114'>paper 1</a> and <a href='https://journals.aps.org/prb/pdf/10.1103/PhysRevB.79.033109'>paper 2</a>. The phase transition is second order.\n",
    "\n",
    "For our purpose let's consider:\n",
    "\n",
    "$$J_{TC}=(1-t)~;~h_z=t~;~{\\rm with}~t\\in [0,1]$$\n",
    "\n",
    "In the $t=0$ limit this has TC GS, while at $t=1$ this a paramagnet (PM) wih all the spins aligned to $\\sigma^z=1$. We will look at the phase transition, and calculate the z-magnetization $\\langle\\sigma^z\\rangle$ as a PM order parameter. The TC GS can be characterized by the topological entanglement entropy as a order parameter, which is done <a href='https://journals.aps.org/prb/pdf/10.1103/PhysRevB.102.235124'>in this paper</a>.\n",
    "\n",
    "Also we will keep the Wilson loop part with a negligible contribution to make sure the degeneracy is splitted."
   ]
  },
  {
   "cell_type": "code",
   "execution_count": 10,
   "metadata": {},
   "outputs": [],
   "source": [
    "t_arr=np.linspace(0,1,51)\n",
    "evalu=10\n",
    "\n",
    "energy=np.ndarray(shape=(len(t_arr),evalu))\n",
    "mag=np.ndarray(shape=(len(t_arr),))\n",
    "\n",
    "for j in range(len(t_arr)):\n",
    "    J_tc=(1.-t_arr[j])\n",
    "    # the TCM\n",
    "    As=[[-J_tc,i,Tx[i],T1[i],I2[i]] for i in [0,1,4,5]]\n",
    "    Bp=[[-J_tc,i,Tx[i],T1[i],I2[i]] for i in [2,3,6,7]]\n",
    "    # the wilson loop\n",
    "    gz=.0001\n",
    "    Wx=[[-gz,0,1]]\n",
    "    Wy=[[-gz,2,6]]\n",
    "    # the z-field\n",
    "    hz=t_arr[j]\n",
    "    Hz=[[-hz,i] for i in range(N_2d)]\n",
    "    # build the adjacent list\n",
    "    static=[[\"xxxx\",As],[\"zzzz\",Bp],[\"zz\",Wx],[\"zz\",Wy],['z',Hz]]\n",
    "    (e2,u) = spslin.eigsh(ham_general(N_2d,static), k=evalu, which='SA',return_eigenvectors=True)\n",
    "    energy[j,:]=np.sort(e2)\n",
    "    # magnetization for PM order parameter\n",
    "    mz=[[1./N_2d,i] for i in range(N_2d)]\n",
    "    magnet=[['z',mz]]\n",
    "    vec=np.array(u[:,0])\n",
    "    adjvec=np.conjugate(vec)\n",
    "    mult=np.matmul(ham_general(N_2d,magnet), vec)\n",
    "    mag[j]=np.matmul(adjvec,mult)"
   ]
  },
  {
   "cell_type": "code",
   "execution_count": 11,
   "metadata": {},
   "outputs": [],
   "source": [
    "energy[0,:],mag;"
   ]
  },
  {
   "cell_type": "code",
   "execution_count": 12,
   "metadata": {},
   "outputs": [],
   "source": [
    "gap=np.ndarray(shape=(len(t_arr),evalu))\n",
    "\n",
    "for j in range(len(t_arr)):\n",
    "    gap[j,:]=energy[j,:]-energy[j,0]"
   ]
  },
  {
   "cell_type": "code",
   "execution_count": 13,
   "metadata": {},
   "outputs": [
    {
     "data": {
      "image/png": "[encoded data removed]",
      "text/plain": [
       "<Figure size 432x360 with 1 Axes>"
      ]
     },
     "metadata": {
      "needs_background": "light"
     },
     "output_type": "display_data"
    }
   ],
   "source": [
    "ms,fs=6,12\n",
    "\n",
    "plt.figure(figsize=(6,5))\n",
    "color=['r','b','g','m','y','c','k']\n",
    "marker=['*','s','o','v','^','x']\n",
    "for k in range(5):\n",
    "    plt.plot(t_arr,gap[:,k],'%s%s-'%(color[k],marker[k]),markersize=ms,label='State: %d'%(k))\n",
    "plt.ylabel('Gap',fontsize=fs)\n",
    "plt.xlabel('$t$',fontsize=fs)\n",
    "plt.xticks(fontsize=fs)\n",
    "plt.yticks(fontsize=fs)\n",
    "plt.legend(fontsize=fs)\n",
    "plt.grid()\n",
    "plt.tight_layout()\n",
    "plt.show()"
   ]
  },
  {
   "cell_type": "markdown",
   "metadata": {},
   "source": [
    "Furthermore by studying GS susceptibilty, i.e. the send derivative of the GS energy, we can find out the phase transition point."
   ]
  },
  {
   "cell_type": "code",
   "execution_count": 14,
   "metadata": {},
   "outputs": [],
   "source": [
    "sus=np.ndarray(shape=(len(t_arr)-2))\n",
    "\n",
    "for j in range(len(sus)):\n",
    "    sus[j]=(41*41)*abs(energy[j,0]+energy[j+2,0]-2*energy[j+1,0])\n",
    "    \n",
    "sus;"
   ]
  },
  {
   "cell_type": "code",
   "execution_count": 15,
   "metadata": {},
   "outputs": [
    {
     "data": {
      "image/png": "[encoded data removed]",
      "text/plain": [
       "<Figure size 432x360 with 1 Axes>"
      ]
     },
     "metadata": {
      "needs_background": "light"
     },
     "output_type": "display_data"
    }
   ],
   "source": [
    "ms,fs=6,12\n",
    "\n",
    "plt.figure(figsize=(6,5))\n",
    "plt.plot(np.linspace(0,1,len(t_arr)-2),sus,'b*-',markersize=ms,label='GS susceptibility')\n",
    "plt.ylabel('Susceptibility',fontsize=fs)\n",
    "plt.xlabel('$t$',fontsize=fs)\n",
    "plt.xticks(fontsize=fs)\n",
    "plt.yticks(fontsize=fs)\n",
    "plt.legend(fontsize=fs)\n",
    "plt.grid()\n",
    "plt.tight_layout()\n",
    "plt.show()"
   ]
  },
  {
   "cell_type": "markdown",
   "metadata": {},
   "source": [
    "### z-Magnetization"
   ]
  },
  {
   "cell_type": "code",
   "execution_count": 16,
   "metadata": {},
   "outputs": [
    {
     "data": {
      "image/png": "[encoded data removed]",
      "text/plain": [
       "<Figure size 432x360 with 1 Axes>"
      ]
     },
     "metadata": {
      "needs_background": "light"
     },
     "output_type": "display_data"
    }
   ],
   "source": [
    "ms,fs=6,12\n",
    "\n",
    "plt.figure(figsize=(6,5))\n",
    "plt.plot(np.linspace(0,1,len(t_arr)),mag,'b*-',markersize=ms,label='z-Magnetization')\n",
    "plt.ylabel('z-Magnetization: $<\\sigma^z>$',fontsize=fs)\n",
    "plt.xlabel('$t$',fontsize=fs)\n",
    "plt.xticks(fontsize=fs)\n",
    "plt.yticks(fontsize=fs)\n",
    "plt.legend(fontsize=fs)\n",
    "plt.grid()\n",
    "plt.tight_layout()\n",
    "plt.show()"
   ]
  },
  {
   "cell_type": "markdown",
   "metadata": {},
   "source": [
    "Although we are severely limited by the system size, it is clear that the phase transition is happening around $t\\sim .3$. It will be more clearer if we do a system size scaling around that point, in the increasing system size we should expect the gap closing at $t\\sim .3$, i.e. collapse of the tower of states.\n",
    "\n",
    "There are many more exotic phase transition out of the TC model GS, those has been studied. Among them one of the interesting phase transtion is to the bond dependent symmetry broken ferromagnetic order (<a href='https://journals.aps.org/prb/pdf/10.1103/PhysRevB.102.235124'>link</a>). I was delighted to be the first auther of that paper, where we showed the phase transition is self dual modified abelian Higg's which is severely constrained by the anyon permutation symmetry.\n",
    "\n",
    "In the above paper we numerically verified the phase transition in more details. Furthermore we computed the topological entanglement entrpy of the TCM, which is due to long range entanglement in the system."
   ]
  }
 ],
 "metadata": {
  "kernelspec": {
   "display_name": "Python 3",
   "language": "python",
   "name": "python3"
  },
  "language_info": {
   "codemirror_mode": {
    "name": "ipython",
    "version": 3
   },
   "file_extension": ".py",
   "mimetype": "text/x-python",
   "name": "python",
   "nbconvert_exporter": "python",
   "pygments_lexer": "ipython3",
   "version": "3.7.6"
  }
 },
 "nbformat": 4,
 "nbformat_minor": 4
}
